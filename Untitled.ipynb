{
 "cells": [
  {
   "cell_type": "code",
   "execution_count": 1,
   "id": "7e485016",
   "metadata": {
    "ExecuteTime": {
     "end_time": "2021-05-24T06:16:05.620703Z",
     "start_time": "2021-05-24T06:16:05.602750Z"
    }
   },
   "outputs": [
    {
     "name": "stdout",
     "output_type": "stream",
     "text": [
      "Hello World\n"
     ]
    }
   ],
   "source": [
    "print(\"Hello World\")"
   ]
  },
  {
   "cell_type": "code",
   "execution_count": 2,
   "id": "8f8f4e21",
   "metadata": {
    "ExecuteTime": {
     "end_time": "2021-05-24T07:55:28.148760Z",
     "start_time": "2021-05-24T07:55:28.126820Z"
    }
   },
   "outputs": [
    {
     "name": "stdout",
     "output_type": "stream",
     "text": [
      "이름 : 홍길동\n"
     ]
    }
   ],
   "source": [
    "name='홍길동'\n",
    "print('이름 :',name)\n"
   ]
  },
  {
   "cell_type": "code",
   "execution_count": 3,
   "id": "930fd7e9",
   "metadata": {
    "ExecuteTime": {
     "end_time": "2021-05-24T07:59:54.076115Z",
     "start_time": "2021-05-24T07:59:54.060158Z"
    }
   },
   "outputs": [
    {
     "ename": "SyntaxError",
     "evalue": "invalid syntax (<ipython-input-3-2acf0a685111>, line 4)",
     "output_type": "error",
     "traceback": [
      "\u001b[1;36m  File \u001b[1;32m\"<ipython-input-3-2acf0a685111>\"\u001b[1;36m, line \u001b[1;32m4\u001b[0m\n\u001b[1;33m    print('사각혀으이 면적 :'rectangle_area)\u001b[0m\n\u001b[1;37m                                   ^\u001b[0m\n\u001b[1;31mSyntaxError\u001b[0m\u001b[1;31m:\u001b[0m invalid syntax\n"
     ]
    }
   ],
   "source": [
    "width = 10\n",
    "height = 5\n",
    "rectangle_area = width*height\n",
    "print('사각혀으이 면적 :'rectangle_area)"
   ]
  },
  {
   "cell_type": "code",
   "execution_count": 4,
   "id": "e8470660",
   "metadata": {
    "ExecuteTime": {
     "end_time": "2021-05-24T08:00:22.457048Z",
     "start_time": "2021-05-24T08:00:22.452022Z"
    }
   },
   "outputs": [
    {
     "name": "stdout",
     "output_type": "stream",
     "text": [
      "사각형의 면적 : 50\n"
     ]
    }
   ],
   "source": [
    "width = 10\n",
    "height = 5\n",
    "rectangle_area = width*height\n",
    "print('사각형의 면적 :',rectangle_area)"
   ]
  },
  {
   "cell_type": "code",
   "execution_count": 6,
   "id": "ab71b9f3",
   "metadata": {
    "ExecuteTime": {
     "end_time": "2021-05-24T08:13:50.487884Z",
     "start_time": "2021-05-24T08:13:50.475919Z"
    }
   },
   "outputs": [
    {
     "name": "stdout",
     "output_type": "stream",
     "text": [
      "안녕! 나는 홍길동 이야. 나는 나이가 27 살이야.\n"
     ]
    }
   ],
   "source": [
    "name='홍길동'\n",
    "age = 27\n",
    "print('안녕! 나는',name,'이야. 나는 나이가',age,'살이야.')"
   ]
  },
  {
   "cell_type": "code",
   "execution_count": 7,
   "id": "307f9a4d",
   "metadata": {
    "ExecuteTime": {
     "end_time": "2021-05-24T08:28:03.238388Z",
     "start_time": "2021-05-24T08:28:03.216446Z"
    }
   },
   "outputs": [
    {
     "data": {
      "text/plain": [
       "44"
      ]
     },
     "execution_count": 7,
     "metadata": {},
     "output_type": "execute_result"
    }
   ],
   "source": [
    "4+40\n",
    "\n"
   ]
  },
  {
   "cell_type": "code",
   "execution_count": 8,
   "id": "54148832",
   "metadata": {
    "ExecuteTime": {
     "end_time": "2021-05-24T08:28:16.563274Z",
     "start_time": "2021-05-24T08:28:16.552302Z"
    }
   },
   "outputs": [
    {
     "data": {
      "text/plain": [
       "6"
      ]
     },
     "execution_count": 8,
     "metadata": {},
     "output_type": "execute_result"
    }
   ],
   "source": [
    "4^2"
   ]
  },
  {
   "cell_type": "code",
   "execution_count": 9,
   "id": "0f43af97",
   "metadata": {
    "ExecuteTime": {
     "end_time": "2021-05-24T08:28:30.100588Z",
     "start_time": "2021-05-24T08:28:30.088623Z"
    }
   },
   "outputs": [
    {
     "data": {
      "text/plain": [
       "2"
      ]
     },
     "execution_count": 9,
     "metadata": {},
     "output_type": "execute_result"
    }
   ],
   "source": [
    "1*2\n"
   ]
  },
  {
   "cell_type": "code",
   "execution_count": 10,
   "id": "f53f336c",
   "metadata": {
    "ExecuteTime": {
     "end_time": "2021-05-24T08:28:42.367017Z",
     "start_time": "2021-05-24T08:28:42.353057Z"
    }
   },
   "outputs": [
    {
     "data": {
      "text/plain": [
       "8"
      ]
     },
     "execution_count": 10,
     "metadata": {},
     "output_type": "execute_result"
    }
   ],
   "source": [
    "2*(2*2)"
   ]
  },
  {
   "cell_type": "code",
   "execution_count": 11,
   "id": "db64de59",
   "metadata": {
    "ExecuteTime": {
     "end_time": "2021-05-24T08:29:01.237905Z",
     "start_time": "2021-05-24T08:29:01.231922Z"
    }
   },
   "outputs": [
    {
     "data": {
      "text/plain": [
       "2"
      ]
     },
     "execution_count": 11,
     "metadata": {},
     "output_type": "execute_result"
    }
   ],
   "source": [
    "10//5"
   ]
  },
  {
   "cell_type": "code",
   "execution_count": 12,
   "id": "5ee71737",
   "metadata": {
    "ExecuteTime": {
     "end_time": "2021-05-24T08:29:06.653826Z",
     "start_time": "2021-05-24T08:29:06.647805Z"
    }
   },
   "outputs": [
    {
     "data": {
      "text/plain": [
       "10"
      ]
     },
     "execution_count": 12,
     "metadata": {},
     "output_type": "execute_result"
    }
   ],
   "source": [
    "20//2"
   ]
  },
  {
   "cell_type": "code",
   "execution_count": 13,
   "id": "7e327476",
   "metadata": {
    "ExecuteTime": {
     "end_time": "2021-05-24T08:29:15.087725Z",
     "start_time": "2021-05-24T08:29:15.072766Z"
    }
   },
   "outputs": [
    {
     "data": {
      "text/plain": [
       "1"
      ]
     },
     "execution_count": 13,
     "metadata": {},
     "output_type": "execute_result"
    }
   ],
   "source": [
    "2//2"
   ]
  },
  {
   "cell_type": "code",
   "execution_count": 14,
   "id": "39849cff",
   "metadata": {
    "ExecuteTime": {
     "end_time": "2021-05-24T08:29:19.126871Z",
     "start_time": "2021-05-24T08:29:19.111879Z"
    }
   },
   "outputs": [
    {
     "data": {
      "text/plain": [
       "3"
      ]
     },
     "execution_count": 14,
     "metadata": {},
     "output_type": "execute_result"
    }
   ],
   "source": [
    "30//8"
   ]
  },
  {
   "cell_type": "code",
   "execution_count": 15,
   "id": "0756f828",
   "metadata": {
    "ExecuteTime": {
     "end_time": "2021-05-24T08:29:59.941610Z",
     "start_time": "2021-05-24T08:29:59.920665Z"
    }
   },
   "outputs": [
    {
     "ename": "SyntaxError",
     "evalue": "invalid syntax (<ipython-input-15-2a66469b2da1>, line 1)",
     "output_type": "error",
     "traceback": [
      "\u001b[1;36m  File \u001b[1;32m\"<ipython-input-15-2a66469b2da1>\"\u001b[1;36m, line \u001b[1;32m1\u001b[0m\n\u001b[1;33m    3&&2\u001b[0m\n\u001b[1;37m      ^\u001b[0m\n\u001b[1;31mSyntaxError\u001b[0m\u001b[1;31m:\u001b[0m invalid syntax\n"
     ]
    }
   ],
   "source": [
    "3&&2\n"
   ]
  },
  {
   "cell_type": "code",
   "execution_count": 16,
   "id": "2c2899ab",
   "metadata": {
    "ExecuteTime": {
     "end_time": "2021-05-24T08:32:05.314545Z",
     "start_time": "2021-05-24T08:32:05.264679Z"
    }
   },
   "outputs": [
    {
     "ename": "TypeError",
     "evalue": "can only concatenate str (not \"int\") to str",
     "output_type": "error",
     "traceback": [
      "\u001b[1;31m-------------------------------------------------\u001b[0m",
      "\u001b[1;31mTypeError\u001b[0m       Traceback (most recent call last)",
      "\u001b[1;32m<ipython-input-16-1e339f59d7ef>\u001b[0m in \u001b[0;36m<module>\u001b[1;34m\u001b[0m\n\u001b[0;32m      2\u001b[0m \u001b[0mmy_height\u001b[0m \u001b[1;33m=\u001b[0m \u001b[1;34m'177'\u001b[0m\u001b[1;33m\u001b[0m\u001b[1;33m\u001b[0m\u001b[0m\n\u001b[0;32m      3\u001b[0m \u001b[0mmy_age\u001b[0m \u001b[1;33m=\u001b[0m \u001b[0mmy_age\u001b[0m \u001b[1;33m+\u001b[0m \u001b[1;36m1\u001b[0m\u001b[1;33m\u001b[0m\u001b[1;33m\u001b[0m\u001b[0m\n\u001b[1;32m----> 4\u001b[1;33m \u001b[0mmy_height\u001b[0m \u001b[1;33m=\u001b[0m \u001b[0mmy_height\u001b[0m \u001b[1;33m+\u001b[0m \u001b[1;36m1\u001b[0m\u001b[1;33m\u001b[0m\u001b[1;33m\u001b[0m\u001b[0m\n\u001b[0m\u001b[0;32m      5\u001b[0m \u001b[0mprint\u001b[0m\u001b[1;33m(\u001b[0m\u001b[0mmy_age\u001b[0m\u001b[1;33m,\u001b[0m \u001b[0mmy_height\u001b[0m\u001b[1;33m)\u001b[0m\u001b[1;33m\u001b[0m\u001b[1;33m\u001b[0m\u001b[0m\n",
      "\u001b[1;31mTypeError\u001b[0m: can only concatenate str (not \"int\") to str"
     ]
    }
   ],
   "source": [
    "my_age = 22\n",
    "my_height = '177'\n",
    "my_age = my_age + 1\n",
    "my_height = my_height + 1\n",
    "print(my_age, my_height)"
   ]
  },
  {
   "cell_type": "code",
   "execution_count": 17,
   "id": "ca14ddff",
   "metadata": {
    "ExecuteTime": {
     "end_time": "2021-05-24T08:33:56.221041Z",
     "start_time": "2021-05-24T08:33:56.208076Z"
    }
   },
   "outputs": [
    {
     "name": "stdout",
     "output_type": "stream",
     "text": [
      "23 1771\n"
     ]
    }
   ],
   "source": [
    "my_age = 22\n",
    "my_height = '177'\n",
    "my_age = my_age + 1\n",
    "my_height = my_height + \"1\"\n",
    "print(my_age, my_height)"
   ]
  },
  {
   "cell_type": "code",
   "execution_count": 18,
   "id": "6bc72126",
   "metadata": {
    "ExecuteTime": {
     "end_time": "2021-05-24T08:34:09.724987Z",
     "start_time": "2021-05-24T08:34:09.712022Z"
    }
   },
   "outputs": [
    {
     "data": {
      "text/plain": [
       "8.0"
      ]
     },
     "execution_count": 18,
     "metadata": {},
     "output_type": "execute_result"
    }
   ],
   "source": [
    "5+3.0"
   ]
  },
  {
   "cell_type": "code",
   "execution_count": 19,
   "id": "78a222a3",
   "metadata": {
    "ExecuteTime": {
     "end_time": "2021-05-24T08:34:21.678785Z",
     "start_time": "2021-05-24T08:34:21.663827Z"
    }
   },
   "outputs": [
    {
     "name": "stdout",
     "output_type": "stream",
     "text": [
      "23 178.5\n"
     ]
    }
   ],
   "source": [
    "my_age = 22\n",
    "my_height = 177.5\n",
    "my_age = my_age + 1\n",
    "my_height = my_height + 1\n",
    "print(my_age, my_height)"
   ]
  },
  {
   "cell_type": "code",
   "execution_count": null,
   "id": "abe4fc7c",
   "metadata": {},
   "outputs": [],
   "source": []
  }
 ],
 "metadata": {
  "hide_input": false,
  "kernelspec": {
   "display_name": "Python 3",
   "language": "python",
   "name": "python3"
  },
  "language_info": {
   "codemirror_mode": {
    "name": "ipython",
    "version": 3
   },
   "file_extension": ".py",
   "mimetype": "text/x-python",
   "name": "python",
   "nbconvert_exporter": "python",
   "pygments_lexer": "ipython3",
   "version": "3.7.9"
  },
  "toc": {
   "base_numbering": 1,
   "nav_menu": {},
   "number_sections": true,
   "sideBar": true,
   "skip_h1_title": false,
   "title_cell": "Table of Contents",
   "title_sidebar": "Contents",
   "toc_cell": false,
   "toc_position": {},
   "toc_section_display": true,
   "toc_window_display": true
  }
 },
 "nbformat": 4,
 "nbformat_minor": 5
}
